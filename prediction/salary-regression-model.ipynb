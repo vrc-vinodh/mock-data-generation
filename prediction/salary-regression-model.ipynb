{
 "cells": [
  {
   "cell_type": "code",
   "execution_count": 1,
   "metadata": {},
   "outputs": [],
   "source": [
    "import pandas as pd\n",
    "import numpy as np\n",
    "from sklearn.linear_model import LinearRegression\n",
    "from sklearn.model_selection import train_test_split\n",
    "from sklearn.metrics import mean_squared_error, r2_score\n",
    "import matplotlib.pyplot as plt"
   ]
  },
  {
   "cell_type": "code",
   "execution_count": 2,
   "metadata": {},
   "outputs": [],
   "source": [
    "import statsmodels.api as sm"
   ]
  },
  {
   "cell_type": "code",
   "execution_count": 3,
   "metadata": {},
   "outputs": [],
   "source": [
    "data = pd.read_csv('V:\\internship XOPA\\predictive analytics\\predictive_salary_cat-mod-filled-nan1.csv', index_col=0)"
   ]
  },
  {
   "cell_type": "code",
   "execution_count": 4,
   "metadata": {},
   "outputs": [
    {
     "data": {
      "text/html": [
       "<div>\n",
       "<style scoped>\n",
       "    .dataframe tbody tr th:only-of-type {\n",
       "        vertical-align: middle;\n",
       "    }\n",
       "\n",
       "    .dataframe tbody tr th {\n",
       "        vertical-align: top;\n",
       "    }\n",
       "\n",
       "    .dataframe thead th {\n",
       "        text-align: right;\n",
       "    }\n",
       "</style>\n",
       "<table border=\"1\" class=\"dataframe\">\n",
       "  <thead>\n",
       "    <tr style=\"text-align: right;\">\n",
       "      <th></th>\n",
       "      <th>last_com_salary</th>\n",
       "      <th>exp</th>\n",
       "      <th>exp_yr_count</th>\n",
       "      <th>salary</th>\n",
       "      <th>American</th>\n",
       "      <th>Male</th>\n",
       "      <th>Masters's Degree</th>\n",
       "      <th>PhD Degree</th>\n",
       "      <th>Job Boards</th>\n",
       "      <th>Referred by employees</th>\n",
       "      <th>...</th>\n",
       "      <th>Director</th>\n",
       "      <th>Frontend Engineer</th>\n",
       "      <th>Frontend Engineer II</th>\n",
       "      <th>Manager</th>\n",
       "      <th>Sr Backend Engineer</th>\n",
       "      <th>Sr Frontend Engineer</th>\n",
       "      <th>Sr Manager</th>\n",
       "      <th>Team Lead</th>\n",
       "      <th>Administration Department</th>\n",
       "      <th>Analytics Department</th>\n",
       "    </tr>\n",
       "    <tr>\n",
       "      <th>id</th>\n",
       "      <th></th>\n",
       "      <th></th>\n",
       "      <th></th>\n",
       "      <th></th>\n",
       "      <th></th>\n",
       "      <th></th>\n",
       "      <th></th>\n",
       "      <th></th>\n",
       "      <th></th>\n",
       "      <th></th>\n",
       "      <th></th>\n",
       "      <th></th>\n",
       "      <th></th>\n",
       "      <th></th>\n",
       "      <th></th>\n",
       "      <th></th>\n",
       "      <th></th>\n",
       "      <th></th>\n",
       "      <th></th>\n",
       "      <th></th>\n",
       "      <th></th>\n",
       "    </tr>\n",
       "  </thead>\n",
       "  <tbody>\n",
       "    <tr>\n",
       "      <th>1</th>\n",
       "      <td>84291</td>\n",
       "      <td>171</td>\n",
       "      <td>1</td>\n",
       "      <td>120925</td>\n",
       "      <td>1</td>\n",
       "      <td>0</td>\n",
       "      <td>0</td>\n",
       "      <td>0</td>\n",
       "      <td>0</td>\n",
       "      <td>0</td>\n",
       "      <td>...</td>\n",
       "      <td>0</td>\n",
       "      <td>0</td>\n",
       "      <td>0</td>\n",
       "      <td>0</td>\n",
       "      <td>1</td>\n",
       "      <td>0</td>\n",
       "      <td>0</td>\n",
       "      <td>0</td>\n",
       "      <td>0</td>\n",
       "      <td>0</td>\n",
       "    </tr>\n",
       "    <tr>\n",
       "      <th>1</th>\n",
       "      <td>84291</td>\n",
       "      <td>171</td>\n",
       "      <td>2</td>\n",
       "      <td>124947</td>\n",
       "      <td>1</td>\n",
       "      <td>0</td>\n",
       "      <td>0</td>\n",
       "      <td>0</td>\n",
       "      <td>0</td>\n",
       "      <td>0</td>\n",
       "      <td>...</td>\n",
       "      <td>0</td>\n",
       "      <td>0</td>\n",
       "      <td>0</td>\n",
       "      <td>0</td>\n",
       "      <td>1</td>\n",
       "      <td>0</td>\n",
       "      <td>0</td>\n",
       "      <td>0</td>\n",
       "      <td>0</td>\n",
       "      <td>0</td>\n",
       "    </tr>\n",
       "    <tr>\n",
       "      <th>1</th>\n",
       "      <td>84291</td>\n",
       "      <td>171</td>\n",
       "      <td>3</td>\n",
       "      <td>126961</td>\n",
       "      <td>1</td>\n",
       "      <td>0</td>\n",
       "      <td>0</td>\n",
       "      <td>0</td>\n",
       "      <td>0</td>\n",
       "      <td>0</td>\n",
       "      <td>...</td>\n",
       "      <td>0</td>\n",
       "      <td>0</td>\n",
       "      <td>0</td>\n",
       "      <td>0</td>\n",
       "      <td>1</td>\n",
       "      <td>0</td>\n",
       "      <td>0</td>\n",
       "      <td>0</td>\n",
       "      <td>0</td>\n",
       "      <td>0</td>\n",
       "    </tr>\n",
       "    <tr>\n",
       "      <th>1</th>\n",
       "      <td>84291</td>\n",
       "      <td>171</td>\n",
       "      <td>4</td>\n",
       "      <td>128977</td>\n",
       "      <td>1</td>\n",
       "      <td>0</td>\n",
       "      <td>0</td>\n",
       "      <td>0</td>\n",
       "      <td>0</td>\n",
       "      <td>0</td>\n",
       "      <td>...</td>\n",
       "      <td>0</td>\n",
       "      <td>0</td>\n",
       "      <td>0</td>\n",
       "      <td>0</td>\n",
       "      <td>1</td>\n",
       "      <td>0</td>\n",
       "      <td>0</td>\n",
       "      <td>0</td>\n",
       "      <td>0</td>\n",
       "      <td>0</td>\n",
       "    </tr>\n",
       "    <tr>\n",
       "      <th>1</th>\n",
       "      <td>84291</td>\n",
       "      <td>171</td>\n",
       "      <td>5</td>\n",
       "      <td>130995</td>\n",
       "      <td>1</td>\n",
       "      <td>0</td>\n",
       "      <td>0</td>\n",
       "      <td>0</td>\n",
       "      <td>0</td>\n",
       "      <td>0</td>\n",
       "      <td>...</td>\n",
       "      <td>0</td>\n",
       "      <td>0</td>\n",
       "      <td>0</td>\n",
       "      <td>0</td>\n",
       "      <td>1</td>\n",
       "      <td>0</td>\n",
       "      <td>0</td>\n",
       "      <td>0</td>\n",
       "      <td>0</td>\n",
       "      <td>0</td>\n",
       "    </tr>\n",
       "  </tbody>\n",
       "</table>\n",
       "<p>5 rows × 25 columns</p>\n",
       "</div>"
      ],
      "text/plain": [
       "    last_com_salary  exp  exp_yr_count  salary  American  Male  \\\n",
       "id                                                               \n",
       "1             84291  171             1  120925         1     0   \n",
       "1             84291  171             2  124947         1     0   \n",
       "1             84291  171             3  126961         1     0   \n",
       "1             84291  171             4  128977         1     0   \n",
       "1             84291  171             5  130995         1     0   \n",
       "\n",
       "    Masters's Degree  PhD Degree  Job Boards  Referred by employees  \\\n",
       "id                                                                    \n",
       "1                  0           0           0                      0   \n",
       "1                  0           0           0                      0   \n",
       "1                  0           0           0                      0   \n",
       "1                  0           0           0                      0   \n",
       "1                  0           0           0                      0   \n",
       "\n",
       "            ...           Director  Frontend Engineer  Frontend Engineer II  \\\n",
       "id          ...                                                               \n",
       "1           ...                  0                  0                     0   \n",
       "1           ...                  0                  0                     0   \n",
       "1           ...                  0                  0                     0   \n",
       "1           ...                  0                  0                     0   \n",
       "1           ...                  0                  0                     0   \n",
       "\n",
       "    Manager  Sr Backend Engineer  Sr Frontend Engineer  Sr Manager  Team Lead  \\\n",
       "id                                                                              \n",
       "1         0                    1                     0           0          0   \n",
       "1         0                    1                     0           0          0   \n",
       "1         0                    1                     0           0          0   \n",
       "1         0                    1                     0           0          0   \n",
       "1         0                    1                     0           0          0   \n",
       "\n",
       "    Administration Department  Analytics Department  \n",
       "id                                                   \n",
       "1                           0                     0  \n",
       "1                           0                     0  \n",
       "1                           0                     0  \n",
       "1                           0                     0  \n",
       "1                           0                     0  \n",
       "\n",
       "[5 rows x 25 columns]"
      ]
     },
     "execution_count": 4,
     "metadata": {},
     "output_type": "execute_result"
    }
   ],
   "source": [
    "data.head()"
   ]
  },
  {
   "cell_type": "code",
   "execution_count": 5,
   "metadata": {},
   "outputs": [],
   "source": [
    "data['last_com_salary'].fillna(0, inplace=True)\n",
    "data['exp'].fillna(0, inplace=True)\n",
    "data.fillna(0, inplace=True)"
   ]
  },
  {
   "cell_type": "markdown",
   "metadata": {},
   "source": [
    "data.to_csv('predictive_salary_cat-mod-filled-nan.csv')"
   ]
  },
  {
   "cell_type": "code",
   "execution_count": 6,
   "metadata": {},
   "outputs": [],
   "source": [
    "data1 = data.drop('salary', axis=1)\n",
    "X = data.drop('salary', axis=1).values\n",
    "Y = data['salary'].values"
   ]
  },
  {
   "cell_type": "code",
   "execution_count": 7,
   "metadata": {},
   "outputs": [
    {
     "name": "stdout",
     "output_type": "stream",
     "text": [
      "                            OLS Regression Results                            \n",
      "==============================================================================\n",
      "Dep. Variable:                      y   R-squared:                       0.977\n",
      "Model:                            OLS   Adj. R-squared:                  0.977\n",
      "Method:                 Least Squares   F-statistic:                 1.521e+04\n",
      "Date:                Tue, 18 Jun 2019   Prob (F-statistic):               0.00\n",
      "Time:                        11:48:14   Log-Likelihood:                -87049.\n",
      "No. Observations:                8452   AIC:                         1.741e+05\n",
      "Df Residuals:                    8427   BIC:                         1.743e+05\n",
      "Df Model:                          24                                         \n",
      "Covariance Type:            nonrobust                                         \n",
      "=============================================================================================\n",
      "                                coef    std err          t      P>|t|      [0.025      0.975]\n",
      "---------------------------------------------------------------------------------------------\n",
      "const                      3.791e+04    458.466     82.683      0.000     3.7e+04    3.88e+04\n",
      "last_com_salary               0.2778      0.006     44.824      0.000       0.266       0.290\n",
      "exp                          -3.5228      2.141     -1.645      0.100      -7.719       0.674\n",
      "exp_yr_count               2575.3379     37.711     68.292      0.000    2501.416    2649.260\n",
      "American                    220.1652    166.742      1.320      0.187    -106.691     547.021\n",
      "Male                        238.8906    166.022      1.439      0.150     -86.554     564.335\n",
      "Masters's Degree            -71.2539    181.971     -0.392      0.695    -427.962     285.454\n",
      "PhD Degree                 -146.8659    220.791     -0.665      0.506    -579.671     285.939\n",
      "Job Boards                  253.1983    195.403      1.296      0.195    -129.839     636.235\n",
      "Referred by employees       966.8578    196.485      4.921      0.000     581.700    1352.016\n",
      "Backend Engineer           2.998e+04    366.921     81.704      0.000    2.93e+04    3.07e+04\n",
      "Backend Engineer II        4.143e+04    460.383     89.984      0.000    4.05e+04    4.23e+04\n",
      "Data Analyst                1.48e+04    425.161     34.805      0.000     1.4e+04    1.56e+04\n",
      "Data Analyst II            3.348e+04    510.851     65.529      0.000    3.25e+04    3.45e+04\n",
      "Data Scientist             5.952e+04    723.883     82.229      0.000    5.81e+04    6.09e+04\n",
      "Director                   2.955e+05   1127.780    262.034      0.000    2.93e+05    2.98e+05\n",
      "Frontend Engineer          2630.2006    518.818      5.070      0.000    1613.190    3647.211\n",
      "Frontend Engineer II       2.201e+04    584.116     37.678      0.000    2.09e+04    2.32e+04\n",
      "Manager                    4.581e+04    751.469     60.962      0.000    4.43e+04    4.73e+04\n",
      "Sr Backend Engineer        6.616e+04    549.542    120.393      0.000    6.51e+04    6.72e+04\n",
      "Sr Frontend Engineer       3.835e+04    903.653     42.444      0.000    3.66e+04    4.01e+04\n",
      "Sr Manager                 8.554e+04    818.027    104.569      0.000    8.39e+04    8.71e+04\n",
      "Team Lead                  1.048e+05    699.548    149.846      0.000    1.03e+05    1.06e+05\n",
      "Administration Department  4.868e+04    615.970     79.029      0.000    4.75e+04    4.99e+04\n",
      "Analytics Department       2.108e+04    381.704     55.227      0.000    2.03e+04    2.18e+04\n",
      "==============================================================================\n",
      "Omnibus:                      238.830   Durbin-Watson:                   0.852\n",
      "Prob(Omnibus):                  0.000   Jarque-Bera (JB):              609.151\n",
      "Skew:                           0.029   Prob(JB):                    5.30e-133\n",
      "Kurtosis:                       4.314   Cond. No.                     1.52e+06\n",
      "==============================================================================\n",
      "\n",
      "Warnings:\n",
      "[1] Standard Errors assume that the covariance matrix of the errors is correctly specified.\n",
      "[2] The condition number is large, 1.52e+06. This might indicate that there are\n",
      "strong multicollinearity or other numerical problems.\n"
     ]
    }
   ],
   "source": [
    "X2 = sm.add_constant(data1)\n",
    "est = sm.OLS(Y, X2)\n",
    "est2 = est.fit()\n",
    "print(est2.summary())"
   ]
  },
  {
   "cell_type": "code",
   "execution_count": 8,
   "metadata": {},
   "outputs": [],
   "source": [
    "X_train, X_test, Y_train, Y_test = train_test_split(X, Y, test_size=0.25, random_state=32)"
   ]
  },
  {
   "cell_type": "code",
   "execution_count": 9,
   "metadata": {
    "scrolled": true
   },
   "outputs": [
    {
     "data": {
      "text/plain": [
       "LinearRegression(copy_X=True, fit_intercept=True, n_jobs=None,\n",
       "         normalize=False)"
      ]
     },
     "execution_count": 9,
     "metadata": {},
     "output_type": "execute_result"
    }
   ],
   "source": [
    "reg = LinearRegression()\n",
    "reg.fit(X_train, Y_train)"
   ]
  },
  {
   "cell_type": "code",
   "execution_count": 10,
   "metadata": {},
   "outputs": [
    {
     "data": {
      "text/plain": [
       "37203.105726109905"
      ]
     },
     "execution_count": 10,
     "metadata": {},
     "output_type": "execute_result"
    }
   ],
   "source": [
    "reg.intercept_"
   ]
  },
  {
   "cell_type": "code",
   "execution_count": 11,
   "metadata": {
    "scrolled": false
   },
   "outputs": [
    {
     "data": {
      "text/html": [
       "<div>\n",
       "<style scoped>\n",
       "    .dataframe tbody tr th:only-of-type {\n",
       "        vertical-align: middle;\n",
       "    }\n",
       "\n",
       "    .dataframe tbody tr th {\n",
       "        vertical-align: top;\n",
       "    }\n",
       "\n",
       "    .dataframe thead th {\n",
       "        text-align: right;\n",
       "    }\n",
       "</style>\n",
       "<table border=\"1\" class=\"dataframe\">\n",
       "  <thead>\n",
       "    <tr style=\"text-align: right;\">\n",
       "      <th></th>\n",
       "      <th>Coefficient</th>\n",
       "    </tr>\n",
       "  </thead>\n",
       "  <tbody>\n",
       "    <tr>\n",
       "      <th>last_com_salary</th>\n",
       "      <td>0.285296</td>\n",
       "    </tr>\n",
       "    <tr>\n",
       "      <th>exp</th>\n",
       "      <td>-0.754974</td>\n",
       "    </tr>\n",
       "    <tr>\n",
       "      <th>exp_yr_count</th>\n",
       "      <td>2625.741066</td>\n",
       "    </tr>\n",
       "    <tr>\n",
       "      <th>American</th>\n",
       "      <td>195.374460</td>\n",
       "    </tr>\n",
       "    <tr>\n",
       "      <th>Male</th>\n",
       "      <td>327.846085</td>\n",
       "    </tr>\n",
       "    <tr>\n",
       "      <th>Masters's Degree</th>\n",
       "      <td>-156.836611</td>\n",
       "    </tr>\n",
       "    <tr>\n",
       "      <th>PhD Degree</th>\n",
       "      <td>-75.258790</td>\n",
       "    </tr>\n",
       "    <tr>\n",
       "      <th>Job Boards</th>\n",
       "      <td>166.387878</td>\n",
       "    </tr>\n",
       "    <tr>\n",
       "      <th>Referred by employees</th>\n",
       "      <td>980.811880</td>\n",
       "    </tr>\n",
       "    <tr>\n",
       "      <th>Backend Engineer</th>\n",
       "      <td>29992.265467</td>\n",
       "    </tr>\n",
       "    <tr>\n",
       "      <th>Backend Engineer II</th>\n",
       "      <td>40984.379361</td>\n",
       "    </tr>\n",
       "    <tr>\n",
       "      <th>Data Analyst</th>\n",
       "      <td>14333.905275</td>\n",
       "    </tr>\n",
       "    <tr>\n",
       "      <th>Data Analyst II</th>\n",
       "      <td>32633.514484</td>\n",
       "    </tr>\n",
       "    <tr>\n",
       "      <th>Data Scientist</th>\n",
       "      <td>58184.536558</td>\n",
       "    </tr>\n",
       "    <tr>\n",
       "      <th>Director</th>\n",
       "      <td>292733.073248</td>\n",
       "    </tr>\n",
       "    <tr>\n",
       "      <th>Frontend Engineer</th>\n",
       "      <td>2329.770229</td>\n",
       "    </tr>\n",
       "    <tr>\n",
       "      <th>Frontend Engineer II</th>\n",
       "      <td>21377.555898</td>\n",
       "    </tr>\n",
       "    <tr>\n",
       "      <th>Manager</th>\n",
       "      <td>44632.325679</td>\n",
       "    </tr>\n",
       "    <tr>\n",
       "      <th>Sr Backend Engineer</th>\n",
       "      <td>65347.015010</td>\n",
       "    </tr>\n",
       "    <tr>\n",
       "      <th>Sr Frontend Engineer</th>\n",
       "      <td>36983.570851</td>\n",
       "    </tr>\n",
       "    <tr>\n",
       "      <th>Sr Manager</th>\n",
       "      <td>84335.016274</td>\n",
       "    </tr>\n",
       "    <tr>\n",
       "      <th>Team Lead</th>\n",
       "      <td>103952.210355</td>\n",
       "    </tr>\n",
       "    <tr>\n",
       "      <th>Administration Department</th>\n",
       "      <td>48859.740071</td>\n",
       "    </tr>\n",
       "    <tr>\n",
       "      <th>Analytics Department</th>\n",
       "      <td>21095.126205</td>\n",
       "    </tr>\n",
       "  </tbody>\n",
       "</table>\n",
       "</div>"
      ],
      "text/plain": [
       "                             Coefficient\n",
       "last_com_salary                 0.285296\n",
       "exp                            -0.754974\n",
       "exp_yr_count                 2625.741066\n",
       "American                      195.374460\n",
       "Male                          327.846085\n",
       "Masters's Degree             -156.836611\n",
       "PhD Degree                    -75.258790\n",
       "Job Boards                    166.387878\n",
       "Referred by employees         980.811880\n",
       "Backend Engineer            29992.265467\n",
       "Backend Engineer II         40984.379361\n",
       "Data Analyst                14333.905275\n",
       "Data Analyst II             32633.514484\n",
       "Data Scientist              58184.536558\n",
       "Director                   292733.073248\n",
       "Frontend Engineer            2329.770229\n",
       "Frontend Engineer II        21377.555898\n",
       "Manager                     44632.325679\n",
       "Sr Backend Engineer         65347.015010\n",
       "Sr Frontend Engineer        36983.570851\n",
       "Sr Manager                  84335.016274\n",
       "Team Lead                  103952.210355\n",
       "Administration Department   48859.740071\n",
       "Analytics Department        21095.126205"
      ]
     },
     "execution_count": 11,
     "metadata": {},
     "output_type": "execute_result"
    }
   ],
   "source": [
    "coeff_df = pd.DataFrame(reg.coef_, data1.columns, columns=['Coefficient'])  \n",
    "coeff_df"
   ]
  },
  {
   "cell_type": "code",
   "execution_count": 12,
   "metadata": {},
   "outputs": [],
   "source": [
    "Y_predicted_train = reg.predict(X_train)"
   ]
  },
  {
   "cell_type": "code",
   "execution_count": 13,
   "metadata": {},
   "outputs": [],
   "source": [
    "Y_predicted = reg.predict(X_test)"
   ]
  },
  {
   "cell_type": "code",
   "execution_count": 14,
   "metadata": {
    "scrolled": true
   },
   "outputs": [
    {
     "data": {
      "image/png": "[encoded data removed]",
      "text/plain": [
       "<Figure size 432x288 with 1 Axes>"
      ]
     },
     "metadata": {
      "needs_background": "light"
     },
     "output_type": "display_data"
    }
   ],
   "source": [
    "fig, ax = plt.subplots()\n",
    "ax.scatter(Y_test, Y_predicted)\n",
    "ax.plot([Y_test.min(), Y_test.max()], [Y_test.min(), Y_test.max()], 'k--', lw=1)\n",
    "ax.set_xlabel('measured')\n",
    "ax.set_ylabel('predicted')\n",
    "plt.show()"
   ]
  },
  {
   "cell_type": "code",
   "execution_count": 15,
   "metadata": {},
   "outputs": [
    {
     "name": "stdout",
     "output_type": "stream",
     "text": [
      "Mean Absolute Error: 5578.108219510384\n",
      "Mean Squared Error: 51377888.29312416\n",
      "Root Mean Squared Error: 7167.837072166481\n"
     ]
    }
   ],
   "source": [
    "from sklearn import metrics\n",
    "print('Mean Absolute Error of training data:', metrics.mean_absolute_error(Y_train, Y_predicted_train))  \n",
    "print('Mean Squared Error of training data:', metrics.mean_squared_error(Y_train, Y_predicted_train))  \n",
    "print('Root Mean Squared Error of training data:', np.sqrt(metrics.mean_squared_error(Y_train, Y_predicted_train)))"
   ]
  },
  {
   "cell_type": "code",
   "execution_count": 16,
   "metadata": {},
   "outputs": [
    {
     "name": "stdout",
     "output_type": "stream",
     "text": [
      "Mean Absolute Error: 5637.382400805059\n",
      "Mean Squared Error: 52844396.07372953\n",
      "Root Mean Squared Error: 7269.415112217043\n"
     ]
    }
   ],
   "source": [
    "from sklearn import metrics\n",
    "print('Mean Absolute Error of test data:', metrics.mean_absolute_error(Y_test, Y_predicted))  \n",
    "print('Mean Squared Error of test data:', metrics.mean_squared_error(Y_test, Y_predicted))  \n",
    "print('Root Mean Squared Error of test data:', np.sqrt(metrics.mean_squared_error(Y_test, Y_predicted)))"
   ]
  },
  {
   "cell_type": "code",
   "execution_count": 19,
   "metadata": {},
   "outputs": [
    {
     "name": "stdout",
     "output_type": "stream",
     "text": [
      "[0.95514266 0.96078898 0.98081125 0.98396077 0.97603822 0.98431353\n",
      " 0.98222788 0.98060535 0.97013728 0.96494551]\n"
     ]
    }
   ],
   "source": [
    "from sklearn.model_selection import cross_val_score\n",
    "cv_results = cross_val_score(reg, X, Y, cv=10)\n",
    "print(cv_results)"
   ]
  },
  {
   "cell_type": "code",
   "execution_count": 20,
   "metadata": {},
   "outputs": [
    {
     "data": {
      "text/plain": [
       "0.973897143088165"
      ]
     },
     "execution_count": 20,
     "metadata": {},
     "output_type": "execute_result"
    }
   ],
   "source": [
    "np.mean(cv_results)"
   ]
  },
  {
   "cell_type": "code",
   "execution_count": null,
   "metadata": {},
   "outputs": [],
   "source": [
    "cv_results = cross_val_score(reg, X, Y, cv=4)\n",
    "print(cv_results)"
   ]
  }
 ],
 "metadata": {
  "kernelspec": {
   "display_name": "Python 3",
   "language": "python",
   "name": "python3"
  },
  "language_info": {
   "codemirror_mode": {
    "name": "ipython",
    "version": 3
   },
   "file_extension": ".py",
   "mimetype": "text/x-python",
   "name": "python",
   "nbconvert_exporter": "python",
   "pygments_lexer": "ipython3",
   "version": "3.7.1"
  }
 },
 "nbformat": 4,
 "nbformat_minor": 2
}
