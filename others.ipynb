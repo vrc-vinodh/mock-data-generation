{
 "cells": [
  {
   "cell_type": "code",
   "execution_count": 1,
   "metadata": {},
   "outputs": [],
   "source": [
    "import numpy as np\n",
    "import pandas as pd\n",
    "import random\n",
    "from random import randint\n",
    "from datetime import date\n",
    "import datetime"
   ]
  },
  {
   "cell_type": "code",
   "execution_count": 5,
   "metadata": {},
   "outputs": [
    {
     "name": "stdout",
     "output_type": "stream",
     "text": [
      "[60, 5, 10, 54, 75, 83, 74, 53, 43, 66, 28, 33, 97, 19, 65, 55, 88, 93, 31, 3, 50, 26, 78, 2, 69, 38, 85, 51, 99, 30, 64, 59, 1, 68, 13, 70, 36, 86, 63, 39, 100, 79, 14, 73, 89, 46, 92, 72, 18, 94, 20, 62, 81, 48, 91, 29, 98, 16, 15, 9, 80, 44, 45, 40, 27, 11, 87, 82, 4, 24, 42, 23, 21, 41, 76, 34, 57, 84, 22, 77, 35, 37, 25, 8, 96, 47, 67, 32, 52, 49, 17, 71, 95, 12, 61, 56, 90, 7, 58, 6]\n"
     ]
    }
   ],
   "source": [
    "id= random.sample(range(1, 101), 100) \n",
    "print (id)"
   ]
  },
  {
   "cell_type": "code",
   "execution_count": 6,
   "metadata": {},
   "outputs": [],
   "source": [
    "employe_engagement_initiatives = [random.choice(['initiatives list 1', 'initiative list 2', 'initiatives list 3', 'initiative list 4','initiatives list 5', 'initiative list 6','initiatives list 7', 'initiative list 8']) for k in range(100)]"
   ]
  },
  {
   "cell_type": "code",
   "execution_count": 7,
   "metadata": {},
   "outputs": [
    {
     "data": {
      "text/plain": [
       "['initiative list 2',\n",
       " 'initiatives list 5',\n",
       " 'initiatives list 1',\n",
       " 'initiative list 4',\n",
       " 'initiatives list 5',\n",
       " 'initiatives list 3',\n",
       " 'initiative list 2',\n",
       " 'initiative list 8',\n",
       " 'initiative list 8']"
      ]
     },
     "execution_count": 7,
     "metadata": {},
     "output_type": "execute_result"
    }
   ],
   "source": [
    "employe_engagement_initiatives[1:10]"
   ]
  },
  {
   "cell_type": "code",
   "execution_count": 23,
   "metadata": {},
   "outputs": [],
   "source": [
    "awards =[]\n",
    "for award in range(100):\n",
    "        award = random.choice(['0','0','1','1','1','2', '2', '3','3', '4','4','5','5','5-8','8+' ])\n",
    "        awards.append(award)"
   ]
  },
  {
   "cell_type": "code",
   "execution_count": 24,
   "metadata": {},
   "outputs": [
    {
     "data": {
      "text/plain": [
       "['3', '1', '4', '8+', '2', '1', '5', '4', '3']"
      ]
     },
     "execution_count": 24,
     "metadata": {},
     "output_type": "execute_result"
    }
   ],
   "source": [
    "awards[1:10]"
   ]
  },
  {
   "cell_type": "code",
   "execution_count": 25,
   "metadata": {},
   "outputs": [],
   "source": [
    "int_surveys =[]\n",
    "for surveys in range(100):\n",
    "        surveys = random.choice(['0','0','1','1','1','2', '2', '3','3', '4','4','5','5','5-8','8+' ])\n",
    "        int_surveys.append(surveys)"
   ]
  },
  {
   "cell_type": "code",
   "execution_count": 27,
   "metadata": {},
   "outputs": [
    {
     "data": {
      "text/plain": [
       "['0', '4', '3', '1', '8+', '1', '5', '1', '4']"
      ]
     },
     "execution_count": 27,
     "metadata": {},
     "output_type": "execute_result"
    }
   ],
   "source": [
    "int_surveys[1:10]"
   ]
  },
  {
   "cell_type": "code",
   "execution_count": 32,
   "metadata": {},
   "outputs": [],
   "source": [
    "fte =[]\n",
    "for fte_em in range(100):\n",
    "        fte_em = random.choice([2340,2080,1040,540])\n",
    "        fte.append(fte_em)"
   ]
  },
  {
   "cell_type": "code",
   "execution_count": 35,
   "metadata": {},
   "outputs": [],
   "source": [
    "others = {\"id\":id, \"Employee Engagement Initiatives\":employe_engagement_initiatives, \"awards\":awards,\"surveys\":int_surveys, \"FTE\":fte }\n",
    "other_details = pd.DataFrame(others)"
   ]
  },
  {
   "cell_type": "code",
   "execution_count": 34,
   "metadata": {},
   "outputs": [
    {
     "data": {
      "text/html": [
       "<div>\n",
       "<style scoped>\n",
       "    .dataframe tbody tr th:only-of-type {\n",
       "        vertical-align: middle;\n",
       "    }\n",
       "\n",
       "    .dataframe tbody tr th {\n",
       "        vertical-align: top;\n",
       "    }\n",
       "\n",
       "    .dataframe thead th {\n",
       "        text-align: right;\n",
       "    }\n",
       "</style>\n",
       "<table border=\"1\" class=\"dataframe\">\n",
       "  <thead>\n",
       "    <tr style=\"text-align: right;\">\n",
       "      <th></th>\n",
       "      <th>id</th>\n",
       "      <th>Employee Engagement Initiatives</th>\n",
       "      <th>awards</th>\n",
       "      <th>surveys</th>\n",
       "      <th>FTE</th>\n",
       "    </tr>\n",
       "  </thead>\n",
       "  <tbody>\n",
       "    <tr>\n",
       "      <th>0</th>\n",
       "      <td>60</td>\n",
       "      <td>initiatives list 5</td>\n",
       "      <td>5-8</td>\n",
       "      <td>5</td>\n",
       "      <td>1040</td>\n",
       "    </tr>\n",
       "    <tr>\n",
       "      <th>1</th>\n",
       "      <td>5</td>\n",
       "      <td>initiative list 2</td>\n",
       "      <td>3</td>\n",
       "      <td>0</td>\n",
       "      <td>2080</td>\n",
       "    </tr>\n",
       "    <tr>\n",
       "      <th>2</th>\n",
       "      <td>10</td>\n",
       "      <td>initiatives list 5</td>\n",
       "      <td>1</td>\n",
       "      <td>4</td>\n",
       "      <td>540</td>\n",
       "    </tr>\n",
       "    <tr>\n",
       "      <th>3</th>\n",
       "      <td>54</td>\n",
       "      <td>initiatives list 1</td>\n",
       "      <td>4</td>\n",
       "      <td>3</td>\n",
       "      <td>1040</td>\n",
       "    </tr>\n",
       "    <tr>\n",
       "      <th>4</th>\n",
       "      <td>75</td>\n",
       "      <td>initiative list 4</td>\n",
       "      <td>8+</td>\n",
       "      <td>1</td>\n",
       "      <td>540</td>\n",
       "    </tr>\n",
       "  </tbody>\n",
       "</table>\n",
       "</div>"
      ],
      "text/plain": [
       "   id Employee Engagement Initiatives awards surveys   FTE\n",
       "0  60              initiatives list 5    5-8       5  1040\n",
       "1   5               initiative list 2      3       0  2080\n",
       "2  10              initiatives list 5      1       4   540\n",
       "3  54              initiatives list 1      4       3  1040\n",
       "4  75               initiative list 4     8+       1   540"
      ]
     },
     "execution_count": 34,
     "metadata": {},
     "output_type": "execute_result"
    }
   ],
   "source": [
    "other_details.head(5)"
   ]
  },
  {
   "cell_type": "code",
   "execution_count": null,
   "metadata": {},
   "outputs": [],
   "source": []
  }
 ],
 "metadata": {
  "kernelspec": {
   "display_name": "Python 3",
   "language": "python",
   "name": "python3"
  },
  "language_info": {
   "codemirror_mode": {
    "name": "ipython",
    "version": 3
   },
   "file_extension": ".py",
   "mimetype": "text/x-python",
   "name": "python",
   "nbconvert_exporter": "python",
   "pygments_lexer": "ipython3",
   "version": "3.7.0"
  }
 },
 "nbformat": 4,
 "nbformat_minor": 2
}
