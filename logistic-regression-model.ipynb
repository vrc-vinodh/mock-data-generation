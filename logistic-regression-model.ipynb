{
 "cells": [
  {
   "cell_type": "markdown",
   "metadata": {},
   "source": [
    "Importing pandas, numpy, seaborn python libraries"
   ]
  },
  {
   "cell_type": "code",
   "execution_count": 1,
   "metadata": {},
   "outputs": [],
   "source": [
    "import pandas as pd\n",
    "import numpy as np\n",
    "import seaborn as sns\n",
    "import matplotlib.pyplot as plt\n",
    "from IPython.display import Image\n",
    "from IPython.core.display import HTML"
   ]
  },
  {
   "cell_type": "markdown",
   "metadata": {},
   "source": [
    "__Logistic Regression__ is a Machine Learning supervised classification algorithm that is used to predict the probability of a categorical dependent variable. In logistic regression, the dependent variable is a binary variable that contains data coded as 1 (yes, success, etc.) or 0 (no, failure, etc.)."
   ]
  },
  {
   "cell_type": "code",
   "execution_count": 2,
   "metadata": {},
   "outputs": [
    {
     "data": {
      "text/html": [
       "<img src=\"https://raw.githubusercontent.com/vrc-vinodh/mock-data-generation-hr-analytics/master/attachements/logistic-regression.gif\" width=\"200\"/>"
      ],
      "text/plain": [
       "<IPython.core.display.Image object>"
      ]
     },
     "execution_count": 2,
     "metadata": {},
     "output_type": "execute_result"
    }
   ],
   "source": [
    "Image(url= \"https://raw.githubusercontent.com/vrc-vinodh/mock-data-generation-hr-analytics/master/attachements/logistic-regression.gif\",width=200)"
   ]
  },
  {
   "cell_type": "markdown",
   "metadata": {},
   "source": [
    "the above equation of logistic regression, if the value of P is more than 0.5 is classified as 1(yes, success, etc), else it is classified as 0 (no, failure, etc.)."
   ]
  },
  {
   "cell_type": "code",
   "execution_count": 3,
   "metadata": {},
   "outputs": [],
   "source": [
    "#importing dataset which has been converted to dummies for doing predictive analytics\n",
    "traindata = pd.read_csv(\"hr-total-cat-unbalanced.csv\",index_col=0)"
   ]
  },
  {
   "cell_type": "markdown",
   "metadata": {},
   "source": [
    "Separting target variable Y (promoted or not promoted) from the features in the dataset as X."
   ]
  },
  {
   "cell_type": "code",
   "execution_count": 4,
   "metadata": {},
   "outputs": [],
   "source": [
    "Y = traindata['is_promoted'].values\n",
    "X_traindata = traindata.drop('is_promoted', axis=1)\n",
    "X = X_traindata.values"
   ]
  },
  {
   "cell_type": "markdown",
   "metadata": {},
   "source": [
    "Split data set into training and test sets"
   ]
  },
  {
   "cell_type": "code",
   "execution_count": 5,
   "metadata": {},
   "outputs": [],
   "source": [
    "#splitting the data into training data and test data, here test_size = 0.25 indicates 25% is assigned to test data.\n",
    "#random_state variable is used so that every time same rows are selected and splitted as test data. \n",
    "from sklearn.model_selection import train_test_split\n",
    "X_train, X_test, Y_train, Y_test = train_test_split(X, Y, test_size=0.25, random_state=42)"
   ]
  },
  {
   "cell_type": "code",
   "execution_count": 6,
   "metadata": {
    "scrolled": false
   },
   "outputs": [
    {
     "data": {
      "image/png": "[encoded data removed]",
      "text/plain": [
       "<Figure size 432x288 with 1 Axes>"
      ]
     },
     "metadata": {
      "needs_background": "light"
     },
     "output_type": "display_data"
    }
   ],
   "source": [
    "plt.hist(Y_train);\n",
    "plt.show()"
   ]
  },
  {
   "cell_type": "markdown",
   "metadata": {},
   "source": [
    "Here dataset predictor variable is unbalanced size, we need to assign class weight so that minority samples get more penality weightage if they are predicted incorrect compared to majority sample."
   ]
  },
  {
   "cell_type": "code",
   "execution_count": 7,
   "metadata": {},
   "outputs": [
    {
     "data": {
      "text/plain": [
       "[0.5476144027646174, 5.75051214515657]"
      ]
     },
     "execution_count": 7,
     "metadata": {},
     "output_type": "execute_result"
    }
   ],
   "source": [
    "#importing class_weight function to assign majority and minority class weight\n",
    "from sklearn.utils import class_weight\n",
    "from sklearn.utils.class_weight import compute_class_weight\n",
    "class_weights = class_weight.compute_class_weight('balanced',np.unique(Y_train),Y_train)\n",
    "class_weightsl = class_weights.tolist()\n",
    "class_weightsl"
   ]
  },
  {
   "cell_type": "code",
   "execution_count": 8,
   "metadata": {},
   "outputs": [],
   "source": [
    "# Importing LogisticRegression model from sklearn package\n",
    "from sklearn.linear_model import LogisticRegression\n",
    "\n",
    "# Create instance (i.e. object) of LogisticRegression\n",
    "lrmodel = LogisticRegression(solver='lbfgs',max_iter=5000,class_weight={0:0.5476144027646174, 1:5.75051214515657})"
   ]
  },
  {
   "cell_type": "code",
   "execution_count": 9,
   "metadata": {
    "scrolled": true
   },
   "outputs": [
    {
     "data": {
      "text/plain": [
       "LogisticRegression(C=1.0,\n",
       "          class_weight={0: 0.5476144027646174, 1: 5.75051214515657},\n",
       "          dual=False, fit_intercept=True, intercept_scaling=1,\n",
       "          max_iter=5000, multi_class='warn', n_jobs=None, penalty='l2',\n",
       "          random_state=None, solver='lbfgs', tol=0.0001, verbose=0,\n",
       "          warm_start=False)"
      ]
     },
     "execution_count": 9,
     "metadata": {},
     "output_type": "execute_result"
    }
   ],
   "source": [
    "#fit the LogisticRegression model for the train data set\n",
    "lrmodel.fit(X_train, Y_train)"
   ]
  },
  {
   "cell_type": "code",
   "execution_count": 10,
   "metadata": {},
   "outputs": [
    {
     "name": "stdout",
     "output_type": "stream",
     "text": [
      "[0.77283134 0.76545408 0.75826972 0.76692112 0.77760814 0.77582697\n",
      " 0.77048346 0.77933316 0.77093408 0.76380758]\n"
     ]
    }
   ],
   "source": [
    "#performing cross validation on the dataset by specifying cv = 10.\n",
    "from sklearn.model_selection import cross_val_score\n",
    "cv_results = cross_val_score(lrmodel, X_train, Y_train, cv=10)\n",
    "print(cv_results)"
   ]
  },
  {
   "cell_type": "code",
   "execution_count": 11,
   "metadata": {},
   "outputs": [
    {
     "data": {
      "text/plain": [
       "0.7701469666515177"
      ]
     },
     "execution_count": 11,
     "metadata": {},
     "output_type": "execute_result"
    }
   ],
   "source": [
    "#mean value of cross validation for 10 iterations\n",
    "np.mean(cv_results)"
   ]
  },
  {
   "cell_type": "markdown",
   "metadata": {},
   "source": [
    "__Summary of logistic regression coefficients__"
   ]
  },
  {
   "cell_type": "code",
   "execution_count": 12,
   "metadata": {},
   "outputs": [
    {
     "name": "stdout",
     "output_type": "stream",
     "text": [
      "Warning: Maximum number of iterations has been exceeded.\n",
      "         Current function value: 0.198006\n",
      "         Iterations: 35\n",
      "                              Results: Logit\n",
      "==========================================================================\n",
      "Model:                 Logit               Pseudo R-squared:    0.329     \n",
      "Dependent Variable:    y                   AIC:                 20880.5893\n",
      "Date:                  2020-02-24 13:54    BIC:                 21456.9211\n",
      "No. Observations:      52399               Log-Likelihood:      -10375.   \n",
      "Df Model:              64                  LL-Null:             -15456.   \n",
      "Df Residuals:          52334               LLR p-value:         0.0000    \n",
      "Converged:             0.0000              Scale:               1.0000    \n",
      "No. Iterations:        35.0000                                            \n",
      "--------------------------------------------------------------------------\n",
      "                    Coef.    Std.Err.    z     P>|z|    [0.025     0.975] \n",
      "--------------------------------------------------------------------------\n",
      "const              -30.2934    0.5142 -58.9166 0.0000   -31.3012  -29.2856\n",
      "age                 -0.0314    0.0038  -8.2773 0.0000    -0.0388   -0.0240\n",
      "length_of_service    0.0281    0.0060   4.6533 0.0000     0.0163    0.0400\n",
      "KPIs_met >80%        1.8784    0.0457  41.1314 0.0000     1.7889    1.9680\n",
      "awards_won?          1.5117    0.0813  18.6036 0.0000     1.3525    1.6710\n",
      "avg_training_score   0.3060    0.0052  58.7251 0.0000     0.2958    0.3163\n",
      "region_10            0.1149    0.2403   0.4783 0.6324    -0.3560    0.5859\n",
      "region_11           -0.3332    0.2177  -1.5306 0.1259    -0.7599    0.0935\n",
      "region_12           -0.4136    0.2890  -1.4311 0.1524    -0.9800    0.1528\n",
      "region_13            0.0242    0.1879   0.1290 0.8974    -0.3440    0.3925\n",
      "region_14           -0.0039    0.2266  -0.0172 0.9863    -0.4480    0.4402\n",
      "region_15            0.0817    0.1883   0.4337 0.6645    -0.2874    0.4507\n",
      "region_16           -0.1638    0.2095  -0.7819 0.4343    -0.5744    0.2468\n",
      "region_17            0.5077    0.2120   2.3954 0.0166     0.0923    0.9231\n",
      "region_18            0.2708    1.0591   0.2557 0.7982    -1.8051    2.3466\n",
      "region_19           -0.0513    0.2337  -0.2195 0.8263    -0.5093    0.4067\n",
      "region_2             0.1590    0.1741   0.9133 0.3611    -0.1822    0.5003\n",
      "region_20           -0.3823    0.2419  -1.5803 0.1140    -0.8564    0.0918\n",
      "region_21           -0.3887    0.3130  -1.2418 0.2143    -1.0023    0.2248\n",
      "region_22            0.4870    0.1746   2.7885 0.0053     0.1447    0.8293\n",
      "region_23            0.4113    0.2006   2.0502 0.0403     0.0181    0.8044\n",
      "region_24           -0.3429    0.3089  -1.1101 0.2670    -0.9484    0.2626\n",
      "region_25            0.5168    0.2096   2.4661 0.0137     0.1061    0.9276\n",
      "region_26           -0.0848    0.1950  -0.4349 0.6637    -0.4670    0.2974\n",
      "region_27            0.1048    0.2000   0.5240 0.6003    -0.2872    0.4969\n",
      "region_28            0.2955    0.1989   1.4855 0.1374    -0.0944    0.6854\n",
      "region_29           -0.4729    0.2410  -1.9620 0.0498    -0.9452   -0.0005\n",
      "region_3             0.2709    0.2734   0.9907 0.3218    -0.2650    0.8067\n",
      "region_30            0.1569    0.2397   0.6545 0.5128    -0.3130    0.6268\n",
      "region_31           -0.2470    0.2042  -1.2098 0.2264    -0.6473    0.1532\n",
      "region_32           -0.4930    0.2520  -1.9567 0.0504    -0.9869    0.0008\n",
      "region_33           -0.4033    0.3815  -1.0571 0.2905    -1.1511    0.3445\n",
      "region_34           -0.9632    0.4578  -2.1038 0.0354    -1.8605   -0.0659\n",
      "region_4             0.6471    0.1868   3.4632 0.0005     0.2809    1.0133\n",
      "region_5            -0.3752    0.2620  -1.4322 0.1521    -0.8886    0.1383\n",
      "region_6            -0.4784    0.2686  -1.7812 0.0749    -1.0049    0.0480\n",
      "region_7             0.3929    0.1772   2.2176 0.0266     0.0456    0.7402\n",
      "region_8            -0.1835    0.2412  -0.7606 0.4469    -0.6563    0.2893\n",
      "region_9            -1.1122    0.4313  -2.5788 0.0099    -1.9576   -0.2669\n",
      "Below Secondary     -0.1861    0.1540  -1.2085 0.2269    -0.4879    0.1157\n",
      "Master's & above     0.1703    0.0452   3.7633 0.0002     0.0816    0.2589\n",
      "Finance              7.0741    0.1621  43.6460 0.0000     6.7565    7.3918\n",
      "HR                   9.9512    0.2143  46.4426 0.0000     9.5312   10.3711\n",
      "Legal                6.8632    0.2140  32.0708 0.0000     6.4437    7.2826\n",
      "Operations           7.2777    0.1437  50.6311 0.0000     6.9960    7.5594\n",
      "Procurement          4.4192    0.1072  41.2288 0.0000     4.2091    4.6292\n",
      "R&D                 -0.5757    0.1499  -3.8417 0.0001    -0.8694   -0.2820\n",
      "Sales & Marketing   10.4693    0.1913  54.7310 0.0000    10.0944   10.8442\n",
      "Technology           1.7715    0.0777  22.8032 0.0000     1.6192    1.9238\n",
      "t2                  -0.1620    0.0552  -2.9373 0.0033    -0.2701   -0.0539\n",
      "t3                  -0.2382    0.1152  -2.0687 0.0386    -0.4639   -0.0125\n",
      "t4                  -0.4362    0.2386  -1.8279 0.0676    -0.9039    0.0315\n",
      "t5                  -0.7068    0.6187  -1.1424 0.2533    -1.9195    0.5059\n",
      "t6                  -0.8583    1.0351  -0.8292 0.4070    -2.8870    1.1704\n",
      "t7                 -15.7353 2599.1023  -0.0061 0.9952 -5109.8821 5078.4115\n",
      "t8                 -11.7993  680.6314  -0.0173 0.9862 -1345.8123 1322.2137\n",
      "t9                 -15.4713 3714.0490  -0.0042 0.9967 -7294.8737 7263.9310\n",
      "t10                -14.1746 4377.3476  -0.0032 0.9974 -8593.6183 8565.2691\n",
      "m                    0.0260    0.0422   0.6167 0.5374    -0.0567    0.1088\n",
      "r2                   1.0673    0.1502   7.1053 0.0000     0.7729    1.3617\n",
      "r3                   1.4322    0.1272  11.2604 0.0000     1.1829    1.6815\n",
      "r4                   1.2080    0.1300   9.2914 0.0000     0.9532    1.4628\n",
      "r5                   1.7508    0.1278  13.6962 0.0000     1.5003    2.0014\n",
      "referred            -0.2109    0.1137  -1.8553 0.0636    -0.4336    0.0119\n",
      "sourcing            -0.0066    0.0380  -0.1728 0.8628    -0.0810    0.0679\n",
      "==========================================================================\n",
      "\n"
     ]
    },
    {
     "name": "stderr",
     "output_type": "stream",
     "text": [
      "C:\\ProgramData\\Anaconda3\\lib\\site-packages\\statsmodels\\base\\model.py:508: ConvergenceWarning: Maximum Likelihood optimization failed to converge. Check mle_retvals\n",
      "  \"Check mle_retvals\", ConvergenceWarning)\n"
     ]
    }
   ],
   "source": [
    "import statsmodels.api as sm\n",
    "X2 = sm.add_constant(X_traindata)\n",
    "logit_model=sm.Logit(Y,X2)\n",
    "result=logit_model.fit()\n",
    "print(result.summary2())"
   ]
  },
  {
   "cell_type": "code",
   "execution_count": 13,
   "metadata": {
    "scrolled": true
   },
   "outputs": [],
   "source": [
    "#predicting predictor for train data\n",
    "y_pred_train = lrmodel.predict(X_train)\n",
    "\n",
    "#predicting predictor for test data\n",
    "y_pred_test = lrmodel.predict(X_test)"
   ]
  },
  {
   "cell_type": "code",
   "execution_count": 14,
   "metadata": {},
   "outputs": [
    {
     "data": {
      "text/html": [
       "<img src=\"https://raw.githubusercontent.com/vrc-vinodh/HR-Analytics-Practice-Dataset/master/attachements/Confusion-matrix.png\" width=\"600\"/>"
      ],
      "text/plain": [
       "<IPython.core.display.Image object>"
      ]
     },
     "execution_count": 14,
     "metadata": {},
     "output_type": "execute_result"
    }
   ],
   "source": [
    "from IPython.display import Image\n",
    "from IPython.core.display import HTML\n",
    "Image(url= \"https://raw.githubusercontent.com/vrc-vinodh/HR-Analytics-Practice-Dataset/master/attachements/Confusion-matrix.png\",width=600)"
   ]
  },
  {
   "cell_type": "code",
   "execution_count": 15,
   "metadata": {},
   "outputs": [
    {
     "data": {
      "text/plain": [
       "array([[27471,  8411],\n",
       "       [  615,  2802]], dtype=int64)"
      ]
     },
     "execution_count": 15,
     "metadata": {},
     "output_type": "execute_result"
    }
   ],
   "source": [
    "#confusion matrix for train data\n",
    "from sklearn.metrics import confusion_matrix\n",
    "confusion_matrix(Y_train, y_pred_train)"
   ]
  },
  {
   "cell_type": "code",
   "execution_count": 16,
   "metadata": {},
   "outputs": [
    {
     "data": {
      "text/plain": [
       "array([[9217, 2754],\n",
       "       [ 196,  933]], dtype=int64)"
      ]
     },
     "execution_count": 16,
     "metadata": {},
     "output_type": "execute_result"
    }
   ],
   "source": [
    "#confusion matrix for test data\n",
    "from sklearn.metrics import confusion_matrix\n",
    "confusion_matrix(Y_test, y_pred_test)"
   ]
  },
  {
   "cell_type": "code",
   "execution_count": 17,
   "metadata": {},
   "outputs": [],
   "source": [
    "#importing classification matrix and accuracy score\n",
    "from sklearn.metrics import classification_report\n",
    "from sklearn.metrics import accuracy_score"
   ]
  },
  {
   "cell_type": "markdown",
   "metadata": {},
   "source": [
    "classification report for train data"
   ]
  },
  {
   "cell_type": "code",
   "execution_count": 18,
   "metadata": {},
   "outputs": [
    {
     "data": {
      "text/html": [
       "<img src=\"https://raw.githubusercontent.com/vrc-vinodh/HR-Analytics-Practice-Dataset/master/attachements/precision-recall-f1score.png\" width=\"500\"/>"
      ],
      "text/plain": [
       "<IPython.core.display.Image object>"
      ]
     },
     "execution_count": 18,
     "metadata": {},
     "output_type": "execute_result"
    }
   ],
   "source": [
    "Image(url= \"https://raw.githubusercontent.com/vrc-vinodh/HR-Analytics-Practice-Dataset/master/attachements/precision-recall-f1score.png\",width=500)"
   ]
  },
  {
   "cell_type": "code",
   "execution_count": 19,
   "metadata": {
    "scrolled": true
   },
   "outputs": [
    {
     "name": "stdout",
     "output_type": "stream",
     "text": [
      "              precision    recall  f1-score   support\n",
      "\n",
      "           0       0.98      0.77      0.86     35882\n",
      "           1       0.25      0.82      0.38      3417\n",
      "\n",
      "   micro avg       0.77      0.77      0.77     39299\n",
      "   macro avg       0.61      0.79      0.62     39299\n",
      "weighted avg       0.91      0.77      0.82     39299\n",
      "\n"
     ]
    }
   ],
   "source": [
    "print(classification_report(Y_train,y_pred_train))"
   ]
  },
  {
   "cell_type": "code",
   "execution_count": 20,
   "metadata": {},
   "outputs": [
    {
     "name": "stdout",
     "output_type": "stream",
     "text": [
      "              precision    recall  f1-score   support\n",
      "\n",
      "           0       0.98      0.77      0.86     11971\n",
      "           1       0.25      0.83      0.39      1129\n",
      "\n",
      "   micro avg       0.77      0.77      0.77     13100\n",
      "   macro avg       0.62      0.80      0.62     13100\n",
      "weighted avg       0.92      0.77      0.82     13100\n",
      "\n"
     ]
    }
   ],
   "source": [
    "print(classification_report(Y_test,y_pred_test))"
   ]
  },
  {
   "cell_type": "code",
   "execution_count": 21,
   "metadata": {},
   "outputs": [
    {
     "name": "stdout",
     "output_type": "stream",
     "text": [
      "Accuracy score for train data: 0.7703249446550803\n",
      "Accuracy score for test data: 0.7748091603053435\n"
     ]
    }
   ],
   "source": [
    "print(\"Accuracy score for train data:\",accuracy_score(Y_train, y_pred_train))\n",
    "print(\"Accuracy score for test data:\",accuracy_score(Y_test, y_pred_test))"
   ]
  },
  {
   "cell_type": "markdown",
   "metadata": {},
   "source": [
    "1.High precision means not many people who don't deserve promotion didn't get promoted.\n",
    "\n",
    "2.High recall means predicted most people who are likely to get promoted."
   ]
  },
  {
   "cell_type": "code",
   "execution_count": 22,
   "metadata": {},
   "outputs": [],
   "source": [
    "#importing roc_auc_score and roc_curve functions from sklearn library\n",
    "from sklearn.metrics import roc_auc_score\n",
    "from sklearn.metrics import roc_curve"
   ]
  },
  {
   "cell_type": "code",
   "execution_count": 23,
   "metadata": {},
   "outputs": [
    {
     "data": {
      "image/png": "[encoded data removed]",
      "text/plain": [
       "<Figure size 432x288 with 1 Axes>"
      ]
     },
     "metadata": {
      "needs_background": "light"
     },
     "output_type": "display_data"
    }
   ],
   "source": [
    "logit_roc_auc = roc_auc_score(Y_test, lrmodel.predict(X_test))\n",
    "fpr, tpr, thresholds = roc_curve(Y_test, lrmodel.predict_proba(X_test)[:,1])\n",
    "plt.figure()\n",
    "plt.plot(fpr, tpr, label='Logistic Regression (area = %0.2f)' % logit_roc_auc)\n",
    "plt.plot([0, 1], [0, 1],'r--')\n",
    "plt.xlim([0.0, 1.0])\n",
    "plt.ylim([0.0, 1.05])\n",
    "plt.xlabel('False Positive Rate')\n",
    "plt.ylabel('True Positive Rate')\n",
    "plt.title('predictive analytics characteristic')\n",
    "plt.legend(loc=\"lower right\")\n",
    "plt.savefig('Log_ROC')\n",
    "plt.show()"
   ]
  },
  {
   "cell_type": "markdown",
   "metadata": {},
   "source": []
  },
  {
   "cell_type": "code",
   "execution_count": null,
   "metadata": {},
   "outputs": [],
   "source": []
  },
  {
   "cell_type": "code",
   "execution_count": null,
   "metadata": {},
   "outputs": [],
   "source": []
  },
  {
   "cell_type": "code",
   "execution_count": null,
   "metadata": {},
   "outputs": [],
   "source": []
  },
  {
   "cell_type": "code",
   "execution_count": null,
   "metadata": {},
   "outputs": [],
   "source": []
  },
  {
   "cell_type": "markdown",
   "metadata": {},
   "source": [
    "# Finding out predictor for Test Data"
   ]
  },
  {
   "cell_type": "code",
   "execution_count": 25,
   "metadata": {},
   "outputs": [],
   "source": [
    "X_testdata = pd.read_csv(\"test-hr-total-cat1.csv\",index_col=0)"
   ]
  },
  {
   "cell_type": "code",
   "execution_count": 26,
   "metadata": {},
   "outputs": [],
   "source": [
    "X_testdata1 = X_testdata.values"
   ]
  },
  {
   "cell_type": "code",
   "execution_count": 27,
   "metadata": {},
   "outputs": [
    {
     "data": {
      "text/plain": [
       "LogisticRegression(C=1.0,\n",
       "          class_weight={0: 0.5476144027646174, 1: 5.75051214515657},\n",
       "          dual=False, fit_intercept=True, intercept_scaling=1,\n",
       "          max_iter=5000, multi_class='warn', n_jobs=None, penalty='l2',\n",
       "          random_state=None, solver='lbfgs', tol=0.0001, verbose=0,\n",
       "          warm_start=False)"
      ]
     },
     "execution_count": 27,
     "metadata": {},
     "output_type": "execute_result"
    }
   ],
   "source": [
    "lrmodel.fit(X, Y)"
   ]
  },
  {
   "cell_type": "code",
   "execution_count": 28,
   "metadata": {
    "scrolled": true
   },
   "outputs": [
    {
     "data": {
      "text/plain": [
       "array([1, 0, 0, 0, 0, 0, 0, 0, 0, 1, 1, 0, 0, 0, 1, 0, 0, 1, 0, 0, 0, 0,\n",
       "       0, 1, 0, 1, 1, 1, 0, 0, 0, 0, 1, 1, 0, 0, 1, 0, 0, 1, 1, 0, 1, 0,\n",
       "       0, 1, 0, 1, 1, 0, 0, 0, 0, 1, 0, 0, 1, 0, 1, 0, 1, 0, 0, 0, 1, 0,\n",
       "       1, 0, 0, 0, 0, 0, 0, 0, 1, 0, 1, 0, 1, 0, 0, 1, 0, 0, 1, 0, 0, 0,\n",
       "       0, 0, 0, 0, 1, 0, 0, 0, 0, 0, 0, 1], dtype=int64)"
      ]
     },
     "execution_count": 28,
     "metadata": {},
     "output_type": "execute_result"
    }
   ],
   "source": [
    "final_prediction_unknown = lrmodel.predict(X_testdata1)\n",
    "final_prediction_unknown[0:100]"
   ]
  },
  {
   "cell_type": "code",
   "execution_count": 29,
   "metadata": {},
   "outputs": [],
   "source": [
    "final_prediction_unknown = final_prediction_unknown.tolist()\n",
    "X_testdata['prediction']=final_prediction_unknown\n",
    "final = X_testdata['prediction']"
   ]
  },
  {
   "cell_type": "code",
   "execution_count": 30,
   "metadata": {
    "scrolled": false
   },
   "outputs": [
    {
     "data": {
      "text/plain": [
       "employee_id\n",
       "8724     1\n",
       "74430    0\n",
       "72255    0\n",
       "38562    0\n",
       "64486    0\n",
       "46232    0\n",
       "54542    0\n",
       "67269    0\n",
       "66174    0\n",
       "76303    1\n",
       "60245    1\n",
       "42639    0\n",
       "30963    0\n",
       "54055    0\n",
       "42996    1\n",
       "12737    0\n",
       "27561    0\n",
       "26622    1\n",
       "31582    0\n",
       "29793    0\n",
       "72735    0\n",
       "5677     0\n",
       "60889    0\n",
       "51498    1\n",
       "8566     0\n",
       "Name: prediction, dtype: int64"
      ]
     },
     "execution_count": 30,
     "metadata": {},
     "output_type": "execute_result"
    }
   ],
   "source": [
    "final[0:25]"
   ]
  },
  {
   "cell_type": "code",
   "execution_count": 31,
   "metadata": {},
   "outputs": [],
   "source": [
    "final.to_csv('test-data-prediction-logistic-regression-model.csv')"
   ]
  },
  {
   "cell_type": "code",
   "execution_count": null,
   "metadata": {},
   "outputs": [],
   "source": []
  }
 ],
 "metadata": {
  "kernelspec": {
   "display_name": "Python 3",
   "language": "python",
   "name": "python3"
  },
  "language_info": {
   "codemirror_mode": {
    "name": "ipython",
    "version": 3
   },
   "file_extension": ".py",
   "mimetype": "text/x-python",
   "name": "python",
   "nbconvert_exporter": "python",
   "pygments_lexer": "ipython3",
   "version": "3.7.1"
  }
 },
 "nbformat": 4,
 "nbformat_minor": 2
}
