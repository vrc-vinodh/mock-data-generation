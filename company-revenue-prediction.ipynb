{
 "cells": [
  {
   "cell_type": "code",
   "execution_count": 91,
   "metadata": {},
   "outputs": [],
   "source": [
    "import pandas as pd\n",
    "import numpy as np\n",
    "from sklearn.linear_model import LinearRegression\n",
    "from sklearn.model_selection import train_test_split\n",
    "from sklearn.metrics import mean_squared_error, r2_score\n",
    "import matplotlib.pyplot as plt\n",
    "import statsmodels.api as sm"
   ]
  },
  {
   "cell_type": "code",
   "execution_count": 92,
   "metadata": {},
   "outputs": [],
   "source": [
    "company_revenue = pd.read_csv('revenue-prediction.csv',index_col=0)"
   ]
  },
  {
   "cell_type": "code",
   "execution_count": 93,
   "metadata": {
    "scrolled": true
   },
   "outputs": [
    {
     "data": {
      "text/html": [
       "<div>\n",
       "<style scoped>\n",
       "    .dataframe tbody tr th:only-of-type {\n",
       "        vertical-align: middle;\n",
       "    }\n",
       "\n",
       "    .dataframe tbody tr th {\n",
       "        vertical-align: top;\n",
       "    }\n",
       "\n",
       "    .dataframe thead th {\n",
       "        text-align: right;\n",
       "    }\n",
       "</style>\n",
       "<table border=\"1\" class=\"dataframe\">\n",
       "  <thead>\n",
       "    <tr style=\"text-align: right;\">\n",
       "      <th></th>\n",
       "      <th>company_rev</th>\n",
       "      <th>total_salaries</th>\n",
       "      <th>entry_level_count</th>\n",
       "      <th>mid_level_count</th>\n",
       "      <th>employees_count</th>\n",
       "      <th>top_by_mid_count</th>\n",
       "      <th>mid_by_entry_count</th>\n",
       "      <th>avg_salary</th>\n",
       "      <th>avg_rating</th>\n",
       "      <th>rating_admin</th>\n",
       "      <th>rating_analytics</th>\n",
       "      <th>rating_it</th>\n",
       "    </tr>\n",
       "    <tr>\n",
       "      <th>Year</th>\n",
       "      <th></th>\n",
       "      <th></th>\n",
       "      <th></th>\n",
       "      <th></th>\n",
       "      <th></th>\n",
       "      <th></th>\n",
       "      <th></th>\n",
       "      <th></th>\n",
       "      <th></th>\n",
       "      <th></th>\n",
       "      <th></th>\n",
       "      <th></th>\n",
       "    </tr>\n",
       "  </thead>\n",
       "  <tbody>\n",
       "    <tr>\n",
       "      <th>2005</th>\n",
       "      <td>6375000</td>\n",
       "      <td>1325019</td>\n",
       "      <td>17</td>\n",
       "      <td>0</td>\n",
       "      <td>17</td>\n",
       "      <td>0.000000</td>\n",
       "      <td>0.000000</td>\n",
       "      <td>77942.29412</td>\n",
       "      <td>3.69</td>\n",
       "      <td>3.69</td>\n",
       "      <td>3.67</td>\n",
       "      <td>3.71</td>\n",
       "    </tr>\n",
       "    <tr>\n",
       "      <th>2006</th>\n",
       "      <td>17160000</td>\n",
       "      <td>4153611</td>\n",
       "      <td>50</td>\n",
       "      <td>2</td>\n",
       "      <td>52</td>\n",
       "      <td>0.000000</td>\n",
       "      <td>0.040000</td>\n",
       "      <td>79877.13462</td>\n",
       "      <td>3.74</td>\n",
       "      <td>3.59</td>\n",
       "      <td>3.61</td>\n",
       "      <td>3.84</td>\n",
       "    </tr>\n",
       "    <tr>\n",
       "      <th>2007</th>\n",
       "      <td>35006000</td>\n",
       "      <td>7431446</td>\n",
       "      <td>87</td>\n",
       "      <td>5</td>\n",
       "      <td>92</td>\n",
       "      <td>0.000000</td>\n",
       "      <td>0.057471</td>\n",
       "      <td>80776.58696</td>\n",
       "      <td>3.70</td>\n",
       "      <td>3.42</td>\n",
       "      <td>3.76</td>\n",
       "      <td>3.70</td>\n",
       "    </tr>\n",
       "    <tr>\n",
       "      <th>2008</th>\n",
       "      <td>61124000</td>\n",
       "      <td>12618904</td>\n",
       "      <td>136</td>\n",
       "      <td>11</td>\n",
       "      <td>148</td>\n",
       "      <td>0.090909</td>\n",
       "      <td>0.080882</td>\n",
       "      <td>85262.86486</td>\n",
       "      <td>3.72</td>\n",
       "      <td>3.84</td>\n",
       "      <td>3.67</td>\n",
       "      <td>3.73</td>\n",
       "    </tr>\n",
       "    <tr>\n",
       "      <th>2009</th>\n",
       "      <td>100230000</td>\n",
       "      <td>21956995</td>\n",
       "      <td>238</td>\n",
       "      <td>16</td>\n",
       "      <td>257</td>\n",
       "      <td>0.187500</td>\n",
       "      <td>0.067227</td>\n",
       "      <td>85435.77821</td>\n",
       "      <td>3.72</td>\n",
       "      <td>3.56</td>\n",
       "      <td>3.76</td>\n",
       "      <td>3.71</td>\n",
       "    </tr>\n",
       "    <tr>\n",
       "      <th>2010</th>\n",
       "      <td>157440000</td>\n",
       "      <td>35801222</td>\n",
       "      <td>324</td>\n",
       "      <td>49</td>\n",
       "      <td>384</td>\n",
       "      <td>0.224490</td>\n",
       "      <td>0.151235</td>\n",
       "      <td>93232.34896</td>\n",
       "      <td>3.76</td>\n",
       "      <td>3.73</td>\n",
       "      <td>3.80</td>\n",
       "      <td>3.75</td>\n",
       "    </tr>\n",
       "    <tr>\n",
       "      <th>2011</th>\n",
       "      <td>215460000</td>\n",
       "      <td>56813089</td>\n",
       "      <td>437</td>\n",
       "      <td>112</td>\n",
       "      <td>567</td>\n",
       "      <td>0.160714</td>\n",
       "      <td>0.256293</td>\n",
       "      <td>100199.45150</td>\n",
       "      <td>3.75</td>\n",
       "      <td>3.68</td>\n",
       "      <td>3.84</td>\n",
       "      <td>3.72</td>\n",
       "    </tr>\n",
       "    <tr>\n",
       "      <th>2012</th>\n",
       "      <td>257145000</td>\n",
       "      <td>68567065</td>\n",
       "      <td>492</td>\n",
       "      <td>132</td>\n",
       "      <td>651</td>\n",
       "      <td>0.204545</td>\n",
       "      <td>0.268293</td>\n",
       "      <td>105325.75270</td>\n",
       "      <td>3.71</td>\n",
       "      <td>3.66</td>\n",
       "      <td>3.76</td>\n",
       "      <td>3.70</td>\n",
       "    </tr>\n",
       "    <tr>\n",
       "      <th>2013</th>\n",
       "      <td>325384000</td>\n",
       "      <td>75558394</td>\n",
       "      <td>548</td>\n",
       "      <td>134</td>\n",
       "      <td>712</td>\n",
       "      <td>0.223881</td>\n",
       "      <td>0.244526</td>\n",
       "      <td>106121.33990</td>\n",
       "      <td>3.75</td>\n",
       "      <td>3.72</td>\n",
       "      <td>3.79</td>\n",
       "      <td>3.73</td>\n",
       "    </tr>\n",
       "    <tr>\n",
       "      <th>2014</th>\n",
       "      <td>364104000</td>\n",
       "      <td>84419143</td>\n",
       "      <td>590</td>\n",
       "      <td>149</td>\n",
       "      <td>778</td>\n",
       "      <td>0.261745</td>\n",
       "      <td>0.252542</td>\n",
       "      <td>108507.89590</td>\n",
       "      <td>3.73</td>\n",
       "      <td>3.77</td>\n",
       "      <td>3.74</td>\n",
       "      <td>3.72</td>\n",
       "    </tr>\n",
       "    <tr>\n",
       "      <th>2015</th>\n",
       "      <td>365030000</td>\n",
       "      <td>96572982</td>\n",
       "      <td>643</td>\n",
       "      <td>176</td>\n",
       "      <td>865</td>\n",
       "      <td>0.261364</td>\n",
       "      <td>0.273717</td>\n",
       "      <td>111645.06590</td>\n",
       "      <td>3.74</td>\n",
       "      <td>3.82</td>\n",
       "      <td>3.74</td>\n",
       "      <td>3.72</td>\n",
       "    </tr>\n",
       "    <tr>\n",
       "      <th>2016</th>\n",
       "      <td>402985000</td>\n",
       "      <td>112644304</td>\n",
       "      <td>641</td>\n",
       "      <td>234</td>\n",
       "      <td>935</td>\n",
       "      <td>0.256410</td>\n",
       "      <td>0.365055</td>\n",
       "      <td>120475.19140</td>\n",
       "      <td>3.73</td>\n",
       "      <td>3.77</td>\n",
       "      <td>3.73</td>\n",
       "      <td>3.72</td>\n",
       "    </tr>\n",
       "    <tr>\n",
       "      <th>2017</th>\n",
       "      <td>419890000</td>\n",
       "      <td>128833394</td>\n",
       "      <td>614</td>\n",
       "      <td>313</td>\n",
       "      <td>995</td>\n",
       "      <td>0.217252</td>\n",
       "      <td>0.509772</td>\n",
       "      <td>129480.79800</td>\n",
       "      <td>3.72</td>\n",
       "      <td>3.75</td>\n",
       "      <td>3.74</td>\n",
       "      <td>3.71</td>\n",
       "    </tr>\n",
       "    <tr>\n",
       "      <th>2018</th>\n",
       "      <td>429570000</td>\n",
       "      <td>137762511</td>\n",
       "      <td>566</td>\n",
       "      <td>364</td>\n",
       "      <td>999</td>\n",
       "      <td>0.189560</td>\n",
       "      <td>0.643110</td>\n",
       "      <td>137900.41140</td>\n",
       "      <td>3.72</td>\n",
       "      <td>3.69</td>\n",
       "      <td>3.73</td>\n",
       "      <td>3.72</td>\n",
       "    </tr>\n",
       "    <tr>\n",
       "      <th>2019</th>\n",
       "      <td>448000000</td>\n",
       "      <td>143226632</td>\n",
       "      <td>548</td>\n",
       "      <td>379</td>\n",
       "      <td>1000</td>\n",
       "      <td>0.192612</td>\n",
       "      <td>0.691606</td>\n",
       "      <td>143226.63200</td>\n",
       "      <td>3.75</td>\n",
       "      <td>3.76</td>\n",
       "      <td>3.74</td>\n",
       "      <td>3.75</td>\n",
       "    </tr>\n",
       "  </tbody>\n",
       "</table>\n",
       "</div>"
      ],
      "text/plain": [
       "      company_rev  total_salaries  entry_level_count  mid_level_count  \\\n",
       "Year                                                                    \n",
       "2005      6375000         1325019                 17                0   \n",
       "2006     17160000         4153611                 50                2   \n",
       "2007     35006000         7431446                 87                5   \n",
       "2008     61124000        12618904                136               11   \n",
       "2009    100230000        21956995                238               16   \n",
       "2010    157440000        35801222                324               49   \n",
       "2011    215460000        56813089                437              112   \n",
       "2012    257145000        68567065                492              132   \n",
       "2013    325384000        75558394                548              134   \n",
       "2014    364104000        84419143                590              149   \n",
       "2015    365030000        96572982                643              176   \n",
       "2016    402985000       112644304                641              234   \n",
       "2017    419890000       128833394                614              313   \n",
       "2018    429570000       137762511                566              364   \n",
       "2019    448000000       143226632                548              379   \n",
       "\n",
       "      employees_count  top_by_mid_count  mid_by_entry_count    avg_salary  \\\n",
       "Year                                                                        \n",
       "2005               17          0.000000            0.000000   77942.29412   \n",
       "2006               52          0.000000            0.040000   79877.13462   \n",
       "2007               92          0.000000            0.057471   80776.58696   \n",
       "2008              148          0.090909            0.080882   85262.86486   \n",
       "2009              257          0.187500            0.067227   85435.77821   \n",
       "2010              384          0.224490            0.151235   93232.34896   \n",
       "2011              567          0.160714            0.256293  100199.45150   \n",
       "2012              651          0.204545            0.268293  105325.75270   \n",
       "2013              712          0.223881            0.244526  106121.33990   \n",
       "2014              778          0.261745            0.252542  108507.89590   \n",
       "2015              865          0.261364            0.273717  111645.06590   \n",
       "2016              935          0.256410            0.365055  120475.19140   \n",
       "2017              995          0.217252            0.509772  129480.79800   \n",
       "2018              999          0.189560            0.643110  137900.41140   \n",
       "2019             1000          0.192612            0.691606  143226.63200   \n",
       "\n",
       "      avg_rating  rating_admin  rating_analytics  rating_it  \n",
       "Year                                                         \n",
       "2005        3.69          3.69              3.67       3.71  \n",
       "2006        3.74          3.59              3.61       3.84  \n",
       "2007        3.70          3.42              3.76       3.70  \n",
       "2008        3.72          3.84              3.67       3.73  \n",
       "2009        3.72          3.56              3.76       3.71  \n",
       "2010        3.76          3.73              3.80       3.75  \n",
       "2011        3.75          3.68              3.84       3.72  \n",
       "2012        3.71          3.66              3.76       3.70  \n",
       "2013        3.75          3.72              3.79       3.73  \n",
       "2014        3.73          3.77              3.74       3.72  \n",
       "2015        3.74          3.82              3.74       3.72  \n",
       "2016        3.73          3.77              3.73       3.72  \n",
       "2017        3.72          3.75              3.74       3.71  \n",
       "2018        3.72          3.69              3.73       3.72  \n",
       "2019        3.75          3.76              3.74       3.75  "
      ]
     },
     "execution_count": 93,
     "metadata": {},
     "output_type": "execute_result"
    }
   ],
   "source": [
    "company_revenue.head(20)"
   ]
  },
  {
   "cell_type": "code",
   "execution_count": 94,
   "metadata": {},
   "outputs": [],
   "source": [
    "company_revenue.fillna(0, inplace=True)"
   ]
  },
  {
   "cell_type": "code",
   "execution_count": 95,
   "metadata": {},
   "outputs": [],
   "source": [
    "data1 = company_revenue.drop('company_rev', axis=1)\n",
    "X = company_revenue.drop('company_rev', axis=1).values\n",
    "Y = company_revenue['company_rev'].values"
   ]
  },
  {
   "cell_type": "code",
   "execution_count": 96,
   "metadata": {},
   "outputs": [
    {
     "name": "stdout",
     "output_type": "stream",
     "text": [
      "                                  Results: Ordinary least squares\n",
      "====================================================================================================\n",
      "Model:                         OLS                         Adj. R-squared:                0.987     \n",
      "Dependent Variable:            y                           AIC:                           544.7955  \n",
      "Date:                          2019-06-18 12:08            BIC:                           553.2921  \n",
      "No. Observations:              15                          Log-Likelihood:                -260.40   \n",
      "Df Model:                      11                          F-statistic:                   98.71     \n",
      "Df Residuals:                  3                           Prob (F-statistic):            0.00149   \n",
      "R-squared:                     0.997                       Scale:                         3.5081e+14\n",
      "----------------------------------------------------------------------------------------------------\n",
      "                        Coef.           Std.Err.       t    P>|t|        [0.025           0.975]    \n",
      "----------------------------------------------------------------------------------------------------\n",
      "const               -364797790.9084 2617549258.0628 -0.1394 0.8980  -8695007756.1299 7965412174.3132\n",
      "total_salaries              17.4528         22.6998  0.7689 0.4980          -54.7881         89.6937\n",
      "entry_level_count      4934129.7016    4931653.5272  1.0005 0.3908    -10760592.8450   20628852.2482\n",
      "mid_level_count        2256171.2767    4514855.6963  0.4997 0.6516    -12112114.5528   16624457.1061\n",
      "employees_count       -5607547.2708    5886158.3686 -0.9527 0.4110    -24339930.2232   13124835.6816\n",
      "top_by_mid_count    -179296419.6457  207642786.4911 -0.8635 0.4514   -840108438.3332  481515599.0417\n",
      "mid_by_entry_count  -246528843.2415 1236243185.3082 -0.1994 0.8547  -4180806400.7584 3687748714.2753\n",
      "avg_salary                3504.0755      17921.4673  0.1955 0.8575       -53530.0320      60538.1830\n",
      "avg_rating         -2708697711.7109 3962334842.1262 -0.6836 0.5433 -15318615590.3344 9901220166.9126\n",
      "rating_admin         215056871.2667  340880060.2232  0.6309 0.5729   -869775616.9357 1299889359.4691\n",
      "rating_analytics     940793051.3172 1265144137.8223  0.7436 0.5110  -3085460235.7474 4967046338.3818\n",
      "rating_it           1573723927.0033 2172255168.3288  0.7245 0.5212  -5339361507.5792 8486809361.5858\n",
      "----------------------------------------------------------------------------------------------------\n",
      "Omnibus:                         1.599                 Durbin-Watson:                    2.379      \n",
      "Prob(Omnibus):                   0.450                 Jarque-Bera (JB):                 0.282      \n",
      "Skew:                            0.235                 Prob(JB):                         0.868      \n",
      "Kurtosis:                        3.479                 Condition No.:                    86951569472\n",
      "====================================================================================================\n",
      "* The condition number is large (9e+10). This might indicate             strong multicollinearity or\n",
      "other numerical problems.\n"
     ]
    },
    {
     "name": "stderr",
     "output_type": "stream",
     "text": [
      "C:\\ProgramData\\Anaconda3\\lib\\site-packages\\scipy\\stats\\stats.py:1394: UserWarning: kurtosistest only valid for n>=20 ... continuing anyway, n=15\n",
      "  \"anyway, n=%i\" % int(n))\n"
     ]
    }
   ],
   "source": [
    "X2 = sm.add_constant(data1)\n",
    "est = sm.OLS(Y, X2)\n",
    "est2 = est.fit()\n",
    "print(est2.summary2())"
   ]
  },
  {
   "cell_type": "code",
   "execution_count": 97,
   "metadata": {},
   "outputs": [],
   "source": [
    "X_train, X_test, Y_train, Y_test = train_test_split(X, Y, test_size=0.30, random_state=32)"
   ]
  },
  {
   "cell_type": "code",
   "execution_count": 98,
   "metadata": {},
   "outputs": [
    {
     "data": {
      "text/plain": [
       "LinearRegression(copy_X=True, fit_intercept=True, n_jobs=None,\n",
       "         normalize=False)"
      ]
     },
     "execution_count": 98,
     "metadata": {},
     "output_type": "execute_result"
    }
   ],
   "source": [
    "reg = LinearRegression()\n",
    "reg.fit(X_train, Y_train)"
   ]
  },
  {
   "cell_type": "code",
   "execution_count": 99,
   "metadata": {},
   "outputs": [
    {
     "data": {
      "text/plain": [
       "-306276162.0194278"
      ]
     },
     "execution_count": 99,
     "metadata": {},
     "output_type": "execute_result"
    }
   ],
   "source": [
    "reg.intercept_"
   ]
  },
  {
   "cell_type": "code",
   "execution_count": 100,
   "metadata": {},
   "outputs": [
    {
     "data": {
      "text/html": [
       "<div>\n",
       "<style scoped>\n",
       "    .dataframe tbody tr th:only-of-type {\n",
       "        vertical-align: middle;\n",
       "    }\n",
       "\n",
       "    .dataframe tbody tr th {\n",
       "        vertical-align: top;\n",
       "    }\n",
       "\n",
       "    .dataframe thead th {\n",
       "        text-align: right;\n",
       "    }\n",
       "</style>\n",
       "<table border=\"1\" class=\"dataframe\">\n",
       "  <thead>\n",
       "    <tr style=\"text-align: right;\">\n",
       "      <th></th>\n",
       "      <th>Coefficient</th>\n",
       "    </tr>\n",
       "  </thead>\n",
       "  <tbody>\n",
       "    <tr>\n",
       "      <th>total_salaries</th>\n",
       "      <td>1.545210e+01</td>\n",
       "    </tr>\n",
       "    <tr>\n",
       "      <th>entry_level_count</th>\n",
       "      <td>8.277422e+06</td>\n",
       "    </tr>\n",
       "    <tr>\n",
       "      <th>mid_level_count</th>\n",
       "      <td>7.002112e+06</td>\n",
       "    </tr>\n",
       "    <tr>\n",
       "      <th>employees_count</th>\n",
       "      <td>-8.505503e+06</td>\n",
       "    </tr>\n",
       "    <tr>\n",
       "      <th>top_by_mid_count</th>\n",
       "      <td>2.720613e+08</td>\n",
       "    </tr>\n",
       "    <tr>\n",
       "      <th>mid_by_entry_count</th>\n",
       "      <td>3.873628e+08</td>\n",
       "    </tr>\n",
       "    <tr>\n",
       "      <th>avg_salary</th>\n",
       "      <td>-1.045647e+04</td>\n",
       "    </tr>\n",
       "    <tr>\n",
       "      <th>avg_rating</th>\n",
       "      <td>4.794330e+07</td>\n",
       "    </tr>\n",
       "    <tr>\n",
       "      <th>rating_admin</th>\n",
       "      <td>1.686847e+08</td>\n",
       "    </tr>\n",
       "    <tr>\n",
       "      <th>rating_analytics</th>\n",
       "      <td>-3.783059e+08</td>\n",
       "    </tr>\n",
       "    <tr>\n",
       "      <th>rating_it</th>\n",
       "      <td>4.359900e+08</td>\n",
       "    </tr>\n",
       "  </tbody>\n",
       "</table>\n",
       "</div>"
      ],
      "text/plain": [
       "                     Coefficient\n",
       "total_salaries      1.545210e+01\n",
       "entry_level_count   8.277422e+06\n",
       "mid_level_count     7.002112e+06\n",
       "employees_count    -8.505503e+06\n",
       "top_by_mid_count    2.720613e+08\n",
       "mid_by_entry_count  3.873628e+08\n",
       "avg_salary         -1.045647e+04\n",
       "avg_rating          4.794330e+07\n",
       "rating_admin        1.686847e+08\n",
       "rating_analytics   -3.783059e+08\n",
       "rating_it           4.359900e+08"
      ]
     },
     "execution_count": 100,
     "metadata": {},
     "output_type": "execute_result"
    }
   ],
   "source": [
    "coeff_df = pd.DataFrame(reg.coef_, data1.columns, columns=['Coefficient'])  \n",
    "coeff_df"
   ]
  },
  {
   "cell_type": "code",
   "execution_count": 101,
   "metadata": {},
   "outputs": [],
   "source": [
    "Y_predicted_train = reg.predict(X_train)"
   ]
  },
  {
   "cell_type": "code",
   "execution_count": 102,
   "metadata": {},
   "outputs": [],
   "source": [
    "Y_predicted = reg.predict(X_test)"
   ]
  },
  {
   "cell_type": "code",
   "execution_count": 103,
   "metadata": {
    "scrolled": true
   },
   "outputs": [
    {
     "data": {
      "image/png": "[encoded data removed]",
      "text/plain": [
       "<Figure size 432x288 with 1 Axes>"
      ]
     },
     "metadata": {
      "needs_background": "light"
     },
     "output_type": "display_data"
    }
   ],
   "source": [
    "fig, ax = plt.subplots()\n",
    "ax.scatter(Y_test, Y_predicted)\n",
    "ax.plot([Y_test.min(), Y_test.max()], [Y_test.min(), Y_test.max()], 'k--', lw=1)\n",
    "ax.set_xlabel('measured')\n",
    "ax.set_ylabel('predicted')\n",
    "plt.show()"
   ]
  },
  {
   "cell_type": "code",
   "execution_count": 109,
   "metadata": {},
   "outputs": [],
   "source": [
    "from sklearn.model_selection import cross_val_score"
   ]
  },
  {
   "cell_type": "code",
   "execution_count": 114,
   "metadata": {},
   "outputs": [
    {
     "name": "stdout",
     "output_type": "stream",
     "text": [
      "[-5.60801721e+03 -8.56927885e+00 -4.34575706e-01 -1.19056997e+07]\n"
     ]
    }
   ],
   "source": [
    "cv_results = cross_val_score(reg, X, Y, cv=4)\n",
    "print(cv_results)"
   ]
  },
  {
   "cell_type": "code",
   "execution_count": 115,
   "metadata": {},
   "outputs": [
    {
     "data": {
      "text/plain": [
       "-2977829.1739949933"
      ]
     },
     "execution_count": 115,
     "metadata": {},
     "output_type": "execute_result"
    }
   ],
   "source": [
    "np.mean(cv_results)"
   ]
  },
  {
   "cell_type": "code",
   "execution_count": null,
   "metadata": {},
   "outputs": [],
   "source": []
  },
  {
   "cell_type": "code",
   "execution_count": 107,
   "metadata": {},
   "outputs": [
    {
     "name": "stdout",
     "output_type": "stream",
     "text": [
      "Mean Absolute Error of train data: 3.113746643066406e-05\n",
      "Mean Squared Error of train data: 1.566687046761217e-09\n",
      "Root Mean Squared Error of train data: 3.95813977363258e-05\n"
     ]
    }
   ],
   "source": [
    "from sklearn import metrics\n",
    "print('Mean Absolute Error of train data:', metrics.mean_absolute_error(Y_train, Y_predicted_train))  \n",
    "print('Mean Squared Error of train data:', metrics.mean_squared_error(Y_train, Y_predicted_train))  \n",
    "print('Root Mean Squared Error of train data:', np.sqrt(metrics.mean_squared_error(Y_train, Y_predicted_train)))"
   ]
  },
  {
   "cell_type": "code",
   "execution_count": 108,
   "metadata": {},
   "outputs": [
    {
     "name": "stdout",
     "output_type": "stream",
     "text": [
      "Mean Absolute Error of test data: 58834145.69425459\n",
      "Mean Squared Error of test data: 5546249139892141.0\n",
      "Root Mean Squared Error of test data: 74473143.74922104\n"
     ]
    }
   ],
   "source": [
    "from sklearn import metrics\n",
    "print('Mean Absolute Error of test data:', metrics.mean_absolute_error(Y_test, Y_predicted))  \n",
    "print('Mean Squared Error of test data:', metrics.mean_squared_error(Y_test, Y_predicted))  \n",
    "print('Root Mean Squared Error of test data:', np.sqrt(metrics.mean_squared_error(Y_test, Y_predicted)))"
   ]
  },
  {
   "cell_type": "code",
   "execution_count": null,
   "metadata": {},
   "outputs": [],
   "source": []
  }
 ],
 "metadata": {
  "kernelspec": {
   "display_name": "Python 3",
   "language": "python",
   "name": "python3"
  },
  "language_info": {
   "codemirror_mode": {
    "name": "ipython",
    "version": 3
   },
   "file_extension": ".py",
   "mimetype": "text/x-python",
   "name": "python",
   "nbconvert_exporter": "python",
   "pygments_lexer": "ipython3",
   "version": "3.7.1"
  }
 },
 "nbformat": 4,
 "nbformat_minor": 2
}
