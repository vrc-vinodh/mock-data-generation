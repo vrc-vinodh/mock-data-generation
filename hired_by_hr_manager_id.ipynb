{
 "cells": [
  {
   "cell_type": "code",
   "execution_count": 2,
   "metadata": {},
   "outputs": [],
   "source": [
    "import numpy as np\n",
    "import pandas as pd\n",
    "import random\n",
    "from random import randint\n",
    "from datetime import date\n",
    "import datetime"
   ]
  },
  {
   "cell_type": "code",
   "execution_count": 3,
   "metadata": {},
   "outputs": [
    {
     "name": "stdout",
     "output_type": "stream",
     "text": [
      "[427, 751, 11, 840, 846, 823, 306, 876, 378, 955, 199, 277, 580, 447, 166, 383, 128, 896, 444, 268, 576, 643, 179, 627, 567, 192, 364, 756, 999, 94, 544, 754, 423, 600, 517, 171, 152, 211, 737, 80, 195, 858, 350, 330, 25, 470, 348, 28, 523, 708, 763, 426, 4, 7, 680, 892, 168, 790, 595, 184, 294, 102, 669, 425, 109, 907, 698, 592, 187, 755, 385, 239, 537, 611, 727, 845, 338, 827, 42, 238, 123, 895, 512, 222, 931, 822, 775, 569, 686, 191, 264, 603, 445, 531, 133, 43, 169, 309, 886, 853]\n"
     ]
    }
   ],
   "source": [
    "random.seed(12345)\n",
    "id= random.sample(range(1, 1001), 1000) \n",
    "print (id[0:100])"
   ]
  },
  {
   "cell_type": "code",
   "execution_count": 31,
   "metadata": {},
   "outputs": [
    {
     "name": "stdout",
     "output_type": "stream",
     "text": [
      "[11113, 11100, 11109, 11111, 11106, 11108, 11113, 11105, 11111, 11103, 11113, 11108, 11105, 11105, 11111, 11102, 11113, 11105, 11104, 11106, 11102, 11106, 11110, 11110, 11100, 11114, 11110, 11100, 11113, 11100, 11100, 11105, 11105, 11109, 11103, 11113, 11103, 11105, 11112, 11107, 11110, 11101, 11107, 11103, 11115, 11106, 11105, 11108, 11113, 11104, 11101, 11105, 11109, 11100, 11104, 11107, 11111, 11110, 11105, 11112, 11110, 11100, 11101, 11101, 11114, 11102, 11112, 11105, 11100, 11111, 11106, 11103, 11115, 11101, 11100, 11115, 11110, 11113, 11106, 11111, 11103, 11104, 11102, 11115, 11105, 11110, 11107, 11106, 11105, 11105, 11109, 11104, 11102, 11100, 11104, 11100, 11115, 11105, 11103, 11108]\n"
     ]
    }
   ],
   "source": [
    "random.seed(12345)\n",
    "hired_by= [randint(11100,11115) for k in range(1000)]\n",
    "print (hired_by[0:100])"
   ]
  },
  {
   "cell_type": "code",
   "execution_count": 32,
   "metadata": {},
   "outputs": [],
   "source": [
    "hire_id = {\"id\":id, \"hired_by\":hired_by}\n",
    "hired_by_hr_id = pd.DataFrame(hire_id)\n",
    "hired_by_hr_id = hired_by_hr_id.sort_values([\"id\"],axis=0, ascending=True)\n",
    "hired_by_hr_id = hired_by_hr_id.reset_index(drop=True)"
   ]
  },
  {
   "cell_type": "code",
   "execution_count": 33,
   "metadata": {},
   "outputs": [
    {
     "data": {
      "text/html": [
       "<div>\n",
       "<style scoped>\n",
       "    .dataframe tbody tr th:only-of-type {\n",
       "        vertical-align: middle;\n",
       "    }\n",
       "\n",
       "    .dataframe tbody tr th {\n",
       "        vertical-align: top;\n",
       "    }\n",
       "\n",
       "    .dataframe thead th {\n",
       "        text-align: right;\n",
       "    }\n",
       "</style>\n",
       "<table border=\"1\" class=\"dataframe\">\n",
       "  <thead>\n",
       "    <tr style=\"text-align: right;\">\n",
       "      <th></th>\n",
       "      <th>id</th>\n",
       "      <th>hired_by</th>\n",
       "    </tr>\n",
       "  </thead>\n",
       "  <tbody>\n",
       "    <tr>\n",
       "      <th>0</th>\n",
       "      <td>1</td>\n",
       "      <td>11103</td>\n",
       "    </tr>\n",
       "    <tr>\n",
       "      <th>1</th>\n",
       "      <td>2</td>\n",
       "      <td>11106</td>\n",
       "    </tr>\n",
       "    <tr>\n",
       "      <th>2</th>\n",
       "      <td>3</td>\n",
       "      <td>11114</td>\n",
       "    </tr>\n",
       "    <tr>\n",
       "      <th>3</th>\n",
       "      <td>4</td>\n",
       "      <td>11109</td>\n",
       "    </tr>\n",
       "    <tr>\n",
       "      <th>4</th>\n",
       "      <td>5</td>\n",
       "      <td>11108</td>\n",
       "    </tr>\n",
       "  </tbody>\n",
       "</table>\n",
       "</div>"
      ],
      "text/plain": [
       "   id  hired_by\n",
       "0   1     11103\n",
       "1   2     11106\n",
       "2   3     11114\n",
       "3   4     11109\n",
       "4   5     11108"
      ]
     },
     "execution_count": 33,
     "metadata": {},
     "output_type": "execute_result"
    }
   ],
   "source": [
    "hired_by_hr_id.head()"
   ]
  },
  {
   "cell_type": "code",
   "execution_count": 34,
   "metadata": {},
   "outputs": [],
   "source": [
    "hired_by_hr_id.to_csv('hired_by_hr_id.csv',index=False)"
   ]
  },
  {
   "cell_type": "code",
   "execution_count": null,
   "metadata": {},
   "outputs": [],
   "source": []
  }
 ],
 "metadata": {
  "kernelspec": {
   "display_name": "Python 3",
   "language": "python",
   "name": "python3"
  },
  "language_info": {
   "codemirror_mode": {
    "name": "ipython",
    "version": 3
   },
   "file_extension": ".py",
   "mimetype": "text/x-python",
   "name": "python",
   "nbconvert_exporter": "python",
   "pygments_lexer": "ipython3",
   "version": "3.7.1"
  }
 },
 "nbformat": 4,
 "nbformat_minor": 2
}
